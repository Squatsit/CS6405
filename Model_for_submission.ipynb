{
  "nbformat": 4,
  "nbformat_minor": 0,
  "metadata": {
    "colab": {
      "provenance": [],
      "authorship_tag": "ABX9TyOvkRJPqJ3ekLHipzi1k0qX",
      "include_colab_link": true
    },
    "kernelspec": {
      "name": "python3",
      "display_name": "Python 3"
    },
    "language_info": {
      "name": "python"
    }
  },
  "cells": [
    {
      "cell_type": "markdown",
      "metadata": {
        "id": "view-in-github",
        "colab_type": "text"
      },
      "source": [
        "<a href=\"https://colab.research.google.com/github/Squatsit/CS6405/blob/main/Model_for_submission.ipynb\" target=\"_parent\"><img src=\"https://colab.research.google.com/assets/colab-badge.svg\" alt=\"Open In Colab\"/></a>"
      ]
    },
    {
      "cell_type": "code",
      "source": [
        "import pandas as pd\n",
        "import numpy as np\n",
        "df = pd.read_csv(\"https://github.com/andvise/DataAnalyticsDatasets/blob/main/test_dataset.csv?raw=True\",index_col=0)\n",
        "old_shape=df.shape\n",
        "\n",
        "print('Na Values: ',df.isnull().values.any()) #True\n",
        "\n",
        "df=df.dropna(axis=1) \n",
        "#originally tried rows but all were removed\n",
        "\n",
        "print('Infinity Values:',df.isin([np.inf, -np.inf]).values.any()) #True\n",
        "\n",
        "#replace with na and then drop these rows\n",
        "df = df.replace([np.inf, -np.inf], np.nan).dropna(axis=1) \n",
        "\n",
        "print('Sanity Check:',df.isnull().values.any())\n",
        "\n",
        "print('Rows Lost =',old_shape[0]-df.shape[0],'Columns Lost =',old_shape[1]-df.shape[1] )\n",
        "\n",
        "df_target=df['target']\n",
        "df=df.drop(columns=['target'])\n",
        "\n",
        "from sklearn import model_selection\n",
        "train_features,test_features,train_labels,test_labels=model_selection.train_test_split(df,df_target,test_size=0.3, random_state=17)\n",
        "\n",
        "from sklearn.preprocessing import MinMaxScaler\n",
        "scaler= MinMaxScaler()\n",
        "train_features = scaler.fit_transform(train_features)\n",
        "test_features = scaler.transform(test_features)\n",
        "\n",
        "from sklearn import preprocessing\n",
        "le = preprocessing.LabelEncoder()\n",
        "train_labels=le.fit_transform(train_labels)\n",
        "test_labels=le.transform(test_labels)\n",
        "\n",
        "from sklearn.ensemble import RandomForestClassifier\n",
        "from sklearn.pipeline import Pipeline\n",
        "from sklearn.model_selection import cross_val_score\n",
        "from sklearn.feature_selection import SelectKBest\n",
        "from sklearn.feature_selection import f_classif\n",
        "from sklearn.model_selection import GridSearchCV\n",
        "from sklearn.feature_selection import VarianceThreshold\n",
        "\n",
        "\n",
        "#Remove all features which have a variance below 0.03\n",
        "constant_filter = VarianceThreshold(threshold=0.04)#0.03 - 0.9733 0.04 - 0.979\n",
        "train_features0=constant_filter.fit_transform(train_features)\n",
        "test_features0=constant_filter.transform(test_features)\n",
        "\n",
        "r,c=train_features0.shape\n",
        "\n",
        "FS_classifierRF = Pipeline([\n",
        "    (\"feature_selection\",SelectKBest(f_classif)),\n",
        "    (\"predictor\", RandomForestClassifier())\n",
        "    ])\n",
        "\n",
        "param_grid = {\"feature_selection__k\": [round(0.7*c),'all'],\n",
        "              \"predictor__n_estimators\": [200],\n",
        "              \"predictor__criterion\": [\"log_loss\",\"entropy\"],\n",
        "              \"predictor__max_features\":[None]\n",
        "              }\n",
        "              \n",
        "#cross validation\n",
        "FS_RF_gs = GridSearchCV(FS_classifierRF, param_grid, scoring=\"accuracy\",cv=10)\n",
        "\n",
        "# Run the GridSearchCV\n",
        "FS_RF_gs.fit(train_features0, train_labels)\n",
        "\n",
        "# Print the best parameters and the score\n",
        "FS_RF_gs.best_params_, FS_RF_gs.best_score_\n",
        "\n",
        "from joblib import dump\n",
        "dump(FS_classifierRF,'./bestmodel.joblib')"
      ],
      "metadata": {
        "colab": {
          "base_uri": "https://localhost:8080/"
        },
        "id": "VtMBwvS9honm",
        "outputId": "6a11044b-0c68-4b5a-dafc-e971f3b36f37"
      },
      "execution_count": 4,
      "outputs": [
        {
          "output_type": "stream",
          "name": "stdout",
          "text": [
            "Na Values:  True\n",
            "Infinity Values: True\n",
            "Sanity Check: False\n",
            "Rows Lost = 0 Columns Lost = 16\n"
          ]
        },
        {
          "output_type": "execute_result",
          "data": {
            "text/plain": [
              "['./bestmodel.joblib']"
            ]
          },
          "metadata": {},
          "execution_count": 4
        }
      ]
    }
  ]
}