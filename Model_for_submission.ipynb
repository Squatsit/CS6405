{
  "nbformat": 4,
  "nbformat_minor": 0,
  "metadata": {
    "colab": {
      "provenance": [],
      "authorship_tag": "ABX9TyPxwFLgwgiSMKTeuzWpvkcC",
      "include_colab_link": true
    },
    "kernelspec": {
      "name": "python3",
      "display_name": "Python 3"
    },
    "language_info": {
      "name": "python"
    }
  },
  "cells": [
    {
      "cell_type": "markdown",
      "metadata": {
        "id": "view-in-github",
        "colab_type": "text"
      },
      "source": [
        "<a href=\"https://colab.research.google.com/github/Squatsit/CS6405/blob/main/Model_for_submission.ipynb\" target=\"_parent\"><img src=\"https://colab.research.google.com/assets/colab-badge.svg\" alt=\"Open In Colab\"/></a>"
      ]
    },
    {
      "cell_type": "code",
      "source": [
        "import pandas as pd\n",
        "import numpy as np\n",
        "df = pd.read_csv(\"https://github.com/andvise/DataAnalyticsDatasets/blob/main/test_dataset.csv?raw=True\",index_col=0)\n",
        "old_shape=df.shape\n",
        "\n",
        "\n",
        "df=df.dropna(axis=1) \n",
        "#originally tried rows but all were removed\n",
        "\n",
        "\n",
        "\n",
        "#replace with na and then drop these rows\n",
        "df = df.replace([np.inf, -np.inf], np.nan).dropna(axis=1) \n",
        "\n",
        "\n",
        "df_target=df['target']\n",
        "df=df.drop(columns=['target'])\n",
        "\n",
        "from sklearn import model_selection\n",
        "train_features,test_features,train_labels,test_labels=model_selection.train_test_split(df,df_target,test_size=0.3, random_state=17)\n",
        "\n",
        "from sklearn.preprocessing import MinMaxScaler\n",
        "scaler= MinMaxScaler()\n",
        "train_features = scaler.fit_transform(train_features)\n",
        "test_features = scaler.transform(test_features)\n",
        "\n",
        "from sklearn import preprocessing\n",
        "le = preprocessing.LabelEncoder()\n",
        "train_labels=le.fit_transform(train_labels)\n",
        "test_labels=le.transform(test_labels)\n",
        "\n",
        "from sklearn.ensemble import RandomForestClassifier\n",
        "from sklearn.pipeline import Pipeline\n",
        "from sklearn.model_selection import cross_val_score\n",
        "from sklearn.feature_selection import SelectKBest\n",
        "from sklearn.feature_selection import f_classif\n",
        "from sklearn.model_selection import GridSearchCV\n",
        "from sklearn.feature_selection import VarianceThreshold\n",
        "\n",
        "\n",
        "#Remove all features which have a variance below 0.03\n",
        "constant_filter = VarianceThreshold(threshold=0.04)#0.03 - 0.9733 0.04 - 0.979\n",
        "train_features0=constant_filter.fit_transform(train_features)\n",
        "test_features0=constant_filter.transform(test_features)\n",
        "\n",
        "r,c=train_features0.shape\n",
        "\n",
        "FS_classifierRF = Pipeline([\n",
        "    (\"feature_selection\",SelectKBest(f_classif)),\n",
        "    (\"predictor\", RandomForestClassifier())\n",
        "    ])\n",
        "\n",
        "param_grid = {\"feature_selection__k\":['all'],\n",
        "              \"predictor__n_estimators\": [200],\n",
        "              \"predictor__criterion\": [\"entropy\"],\n",
        "              \"predictor__max_features\":[None]\n",
        "              }\n",
        "              \n",
        "#cross validation\n",
        "FS_RF_gs = GridSearchCV(FS_classifierRF, param_grid, scoring=\"accuracy\",cv=10)\n",
        "\n",
        "# Run the GridSearchCV\n",
        "FS_RF_gs.fit(train_features0, train_labels)\n",
        "\n",
        "# Print the best parameters and the score\n",
        "FS_RF_gs.best_params_, FS_RF_gs.best_score_\n",
        "\n",
        "from joblib import dump\n",
        "dump(FS_classifierRF,'./bestmodel.joblib')"
      ],
      "metadata": {
        "colab": {
          "base_uri": "https://localhost:8080/"
        },
        "id": "VtMBwvS9honm",
        "outputId": "91a8929f-d859-4e41-d61b-23cd94be0cf2"
      },
      "execution_count": 6,
      "outputs": [
        {
          "output_type": "execute_result",
          "data": {
            "text/plain": [
              "['./bestmodel.joblib']"
            ]
          },
          "metadata": {},
          "execution_count": 6
        }
      ]
    }
  ]
}